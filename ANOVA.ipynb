{
 "cells": [
  {
   "cell_type": "markdown",
   "metadata": {},
   "source": [
    "分散分析(ANOVA, Analysis Of Variance) とは、３つ以上の群の平均値差の検定や、条件(の組み合わせ)の違いによって母平均が異なるかどうかを検定する方法です (注意:「分散」という名前に惑わされないように)\n",
    "\n",
    "データにおいて変数がとる値は、以下の『要因』によるものと「誤差」によるものがあるとみなせます:\n",
    "\n",
    "要因: 母平均に違いをもたらす原因<br>\n",
    "水準: ある要因の中に含まれる個々の条件<br>　\n",
    "\n",
    "そして、 「データ全体のばらつき」は、『要因によるばらつき』と『誤差によるばらつき』の和とみなせます。分散分析は、データ全体のばらつきを「平方和」として表し、それを要因ごとに分け、誤差に比べて大きな影響を与えている要因を探し出し、推測に利用する方法です。"
   ]
  },
  {
   "cell_type": "markdown",
   "metadata": {},
   "source": [
    "## 対応のない一元配置分散分析"
   ]
  },
  {
   "cell_type": "code",
   "execution_count": 2,
   "metadata": {},
   "outputs": [
    {
     "data": {
      "image/png": "[encoded data removed]",
      "text/plain": [
       "<Figure size 432x288 with 1 Axes>"
      ]
     },
     "metadata": {
      "needs_background": "light"
     },
     "output_type": "display_data"
    }
   ],
   "source": [
    "%matplotlib inline\n",
    "import matplotlib.pyplot as plt\n",
    "import numpy as np\n",
    "import scipy.stats as st\n",
    "x=np.linspace(0,8,1000)\n",
    "plt.plot(x,st.f.pdf(x,3,16))\n",
    "plt.xlabel('x')\n",
    "plt.ylabel('st.f.pdf(x,3,16)')\n",
    "plt.grid()"
   ]
  },
  {
   "cell_type": "code",
   "execution_count": 3,
   "metadata": {},
   "outputs": [],
   "source": [
    "import numpy as np\n",
    "# 4つの指導法に違いがあるか?\n",
    "A = np.array([15,9,18,14,18])\n",
    "B = np.array([13,8,8,12,7])\n",
    "C = np.array([10,6,11,7,12])\n",
    "D = np.array([10,7,3,5,7])"
   ]
  },
  {
   "cell_type": "code",
   "execution_count": 4,
   "metadata": {},
   "outputs": [
    {
     "name": "stdout",
     "output_type": "stream",
     "text": [
      "F=7.111111, p-value = 0.002988\n"
     ]
    }
   ],
   "source": [
    "f, p = st.f_oneway(A,B,C,D)\n",
    "print(\"F=%f, p-value = %f\"%(f,p))"
   ]
  },
  {
   "cell_type": "markdown",
   "metadata": {},
   "source": [
    "F値は7.11、p値が0.003であるから、帰無仮説が棄却される。検定の結果、つまりA,B,C,Dの間に有意な平均値差が見られたことが導ける。\n",
    "\n",
    "注意: 実際には分散分析を適用するには、データが独立で、それぞれ正規分布に従うものであり、分散はみな等しい(分散の等質性）という条件がある。分散の等質性の検定にはBartlett検定を用いる。"
   ]
  },
  {
   "cell_type": "code",
   "execution_count": 5,
   "metadata": {},
   "outputs": [
    {
     "data": {
      "text/plain": [
       "BartlettResult(statistic=0.704094908747911, pvalue=0.8722403650937011)"
      ]
     },
     "execution_count": 5,
     "metadata": {},
     "output_type": "execute_result"
    }
   ],
   "source": [
    "st.bartlett(A,B,C,D) # Bartlett検定"
   ]
  },
  {
   "cell_type": "markdown",
   "metadata": {},
   "source": [
    "帰無仮説(H0)：「各群の分散は均一である」と仮定する。(分散に差はない)"
   ]
  },
  {
   "cell_type": "markdown",
   "metadata": {},
   "source": [
    "## 多重比較(Tukeyの方法)"
   ]
  },
  {
   "cell_type": "markdown",
   "metadata": {},
   "source": [
    "一元配置分散分析の結果「帰無仮説が棄却」されても、これだけでは「群の母平均が等しくない」ことしかわからない。\n",
    "\n",
    "\n",
    "具体的に「どの群とどの群の間に差があるか」を知りたいことが多い。それには多重比較を行う。ここではTukey（テューキー）の方法を紹介する。"
   ]
  },
  {
   "cell_type": "code",
   "execution_count": 7,
   "metadata": {},
   "outputs": [
    {
     "name": "stdout",
     "output_type": "stream",
     "text": [
      "Multiple Comparison of Means - Tukey HSD,FWER=0.05\n",
      "==============================================\n",
      "group1 group2 meandiff  lower    upper  reject\n",
      "----------------------------------------------\n",
      "  A      B      -5.2   -10.5145  0.1145 False \n",
      "  A      C      -5.6   -10.9145 -0.2855  True \n",
      "  A      D      -8.4   -13.7145 -3.0855  True \n",
      "  B      C      -0.4   -5.7145   4.9145 False \n",
      "  B      D      -3.2   -8.5145   2.1145 False \n",
      "  C      D      -2.8   -8.1145   2.5145 False \n",
      "----------------------------------------------\n"
     ]
    }
   ],
   "source": [
    "from statsmodels.stats.multicomp import pairwise_tukeyhsd\n",
    "import numpy as np\n",
    "# 4つの指導法に違いがあるか?\n",
    "A = np.array([15,9,18,14,18])\n",
    "B = np.array([13,8,8,12,7])\n",
    "C = np.array([10,6,11,7,12])\n",
    "D = np.array([10,7,3,5,7])\n",
    "\n",
    "data_arr = np.hstack( (A,B,C,D) ) # すべてのデータを結合\n",
    "# array([15,  9, 18, 14, 18, 13,  8,  8, 12,  7, 10,  6, 11,  7, 12, 10,  7,  3,  5,  7])\n",
    "ind_arr = np.repeat(list('ABCD'),len(A))   # 名称をリスト\n",
    "# array(['A', 'A', 'A', 'A', 'A', 'B', 'B', 'B', 'B', 'B', 'C', 'C', 'C', 'C', 'C', 'D', 'D', 'D', 'D', 'D'])\n",
    "\n",
    "print(pairwise_tukeyhsd(data_arr,ind_arr))   # 結果を出力する"
   ]
  },
  {
   "cell_type": "code",
   "execution_count": 23,
   "metadata": {},
   "outputs": [
    {
     "name": "stdout",
     "output_type": "stream",
     "text": [
      "Multiple Comparison of Means - Tukey HSD,FWER=0.05\n",
      "==============================================\n",
      "group1 group2 meandiff  lower    upper  reject\n",
      "----------------------------------------------\n",
      "  A      B    -14.4167 -22.7227 -6.1106  True \n",
      "  A      C    -3.6071  -12.454   5.2397 False \n",
      "  B      C    10.8095   2.1951   19.424  True \n",
      "----------------------------------------------\n"
     ]
    }
   ],
   "source": [
    "# 別バージョン：個数がそれぞれ違う場合. 次を参考にした: http://qiita.com/keroplant/items/bb03375c55ca4b2f5943\n",
    "A = [100, 96, 80, 92, 101, 99, 89, 93]\n",
    "B = [83, 77, 86, 71, 70, 98, 80, 75, 74]\n",
    "C = [90, 91, 92, 89, 88, 90, 91]\n",
    "\n",
    "def tukey_hsd( ind, *args ):\n",
    "    from statsmodels.stats.multicomp import pairwise_tukeyhsd\n",
    "    import numpy as np\n",
    "    data_arr = np.hstack( args )\n",
    "    ind_arr = np.array([])\n",
    "    for x in range(len(args)):\n",
    "        ind_arr = np.append(ind_arr, np.repeat(ind[x], len(args[x])))\n",
    "    print(pairwise_tukeyhsd(data_arr,ind_arr))\n",
    "\n",
    "tukey_hsd(list('ABC') , A,B,C) # 第1引数:名称のリスト, 第2引数以降: データ"
   ]
  },
  {
   "cell_type": "markdown",
   "metadata": {},
   "source": [
    "## 対応のある一元配置分散分析\n"
   ]
  },
  {
   "cell_type": "markdown",
   "metadata": {},
   "source": [
    "一元配置分散分析(対応あり)では、同じ被験者が複数の条件を経験する(被験者内計画のデータ)というような対応があるデータを対象とする"
   ]
  },
  {
   "cell_type": "code",
   "execution_count": 25,
   "metadata": {},
   "outputs": [],
   "source": [
    "# データの準備：DataFrameを作る\n",
    "import statsmodels.api as sm\n",
    "from statsmodels.formula.api import ols\n",
    "import pandas as pd\n",
    "\n",
    "Algebra=[7,8,9,5,6] ; Calculus = [5,4,7,1,3] ; Statistics=[8,6,7,2,5]\n",
    "Students=list(range(5))    # ['Tanaka','Kisi','Obiki','Yosikawa','Ogino']\n",
    "Favorness = np.array(Algebra+Calculus+Statistics)\n",
    "Condition = np.repeat(['algebra','calculus','statistics'],len(Algebra))\n",
    "Subjects = np.array(Students+Students+Students)\n",
    "df = pd.DataFrame({'Favorness':Favorness,'Condition':Condition,'Subjects':Subjects})"
   ]
  },
  {
   "cell_type": "code",
   "execution_count": 26,
   "metadata": {},
   "outputs": [
    {
     "data": {
      "text/html": [
       "<div>\n",
       "<style scoped>\n",
       "    .dataframe tbody tr th:only-of-type {\n",
       "        vertical-align: middle;\n",
       "    }\n",
       "\n",
       "    .dataframe tbody tr th {\n",
       "        vertical-align: top;\n",
       "    }\n",
       "\n",
       "    .dataframe thead th {\n",
       "        text-align: right;\n",
       "    }\n",
       "</style>\n",
       "<table border=\"1\" class=\"dataframe\">\n",
       "  <thead>\n",
       "    <tr style=\"text-align: right;\">\n",
       "      <th></th>\n",
       "      <th>Condition</th>\n",
       "      <th>Favorness</th>\n",
       "      <th>Subjects</th>\n",
       "    </tr>\n",
       "  </thead>\n",
       "  <tbody>\n",
       "    <tr>\n",
       "      <th>0</th>\n",
       "      <td>algebra</td>\n",
       "      <td>7</td>\n",
       "      <td>0</td>\n",
       "    </tr>\n",
       "    <tr>\n",
       "      <th>1</th>\n",
       "      <td>algebra</td>\n",
       "      <td>8</td>\n",
       "      <td>1</td>\n",
       "    </tr>\n",
       "    <tr>\n",
       "      <th>2</th>\n",
       "      <td>algebra</td>\n",
       "      <td>9</td>\n",
       "      <td>2</td>\n",
       "    </tr>\n",
       "    <tr>\n",
       "      <th>3</th>\n",
       "      <td>algebra</td>\n",
       "      <td>5</td>\n",
       "      <td>3</td>\n",
       "    </tr>\n",
       "    <tr>\n",
       "      <th>4</th>\n",
       "      <td>algebra</td>\n",
       "      <td>6</td>\n",
       "      <td>4</td>\n",
       "    </tr>\n",
       "  </tbody>\n",
       "</table>\n",
       "</div>"
      ],
      "text/plain": [
       "  Condition  Favorness  Subjects\n",
       "0   algebra          7         0\n",
       "1   algebra          8         1\n",
       "2   algebra          9         2\n",
       "3   algebra          5         3\n",
       "4   algebra          6         4"
      ]
     },
     "execution_count": 26,
     "metadata": {},
     "output_type": "execute_result"
    }
   ],
   "source": [
    "df[:5]"
   ]
  },
  {
   "cell_type": "code",
   "execution_count": 27,
   "metadata": {},
   "outputs": [],
   "source": [
    "# statsmodels.statsのanova.AnovaRMを用いる、インスタンスを作ってfit()する\n",
    "import statsmodels.stats.anova as anova\n",
    "aov=anova.AnovaRM(df, 'Favorness','Subjects',['Condition'])\n",
    "result=aov.fit()"
   ]
  },
  {
   "cell_type": "code",
   "execution_count": 28,
   "metadata": {},
   "outputs": [
    {
     "name": "stdout",
     "output_type": "stream",
     "text": [
      "                 Anova\n",
      "======================================\n",
      "          F Value Num DF Den DF Pr > F\n",
      "--------------------------------------\n",
      "Condition 14.6957 2.0000 8.0000 0.0021\n",
      "======================================\n",
      "\n"
     ]
    }
   ],
   "source": [
    "print(result)\n",
    "# 有意水準は5%、つまり0.005とする"
   ]
  },
  {
   "cell_type": "code",
   "execution_count": 29,
   "metadata": {},
   "outputs": [
    {
     "name": "stdout",
     "output_type": "stream",
     "text": [
      "Multiple Comparison of Means - Tukey HSD,FWER=0.05\n",
      "==============================================\n",
      "group1 group2 meandiff  lower    upper  reject\n",
      "----------------------------------------------\n",
      "  A      B    -14.4167 -22.7227 -6.1106  True \n",
      "  A      C    -3.6071  -12.454   5.2397 False \n",
      "  B      C    10.8095   2.1951   19.424  True \n",
      "----------------------------------------------\n"
     ]
    }
   ],
   "source": [
    "# 5%で有意差があるので、多重比較する\n",
    "tukey_hsd(list('ABC') , A,B,C) "
   ]
  },
  {
   "cell_type": "code",
   "execution_count": null,
   "metadata": {},
   "outputs": [],
   "source": []
  }
 ],
 "metadata": {
  "kernelspec": {
   "display_name": "Python 3",
   "language": "python",
   "name": "python3"
  },
  "language_info": {
   "codemirror_mode": {
    "name": "ipython",
    "version": 2
   },
   "file_extension": ".py",
   "mimetype": "text/x-python",
   "name": "python",
   "nbconvert_exporter": "python",
   "pygments_lexer": "ipython2",
   "version": "2.7.16"
  },
  "toc": {
   "base_numbering": 1,
   "nav_menu": {},
   "number_sections": true,
   "sideBar": true,
   "skip_h1_title": false,
   "title_cell": "Table of Contents",
   "title_sidebar": "Contents",
   "toc_cell": false,
   "toc_position": {},
   "toc_section_display": true,
   "toc_window_display": true
  }
 },
 "nbformat": 4,
 "nbformat_minor": 2
}
