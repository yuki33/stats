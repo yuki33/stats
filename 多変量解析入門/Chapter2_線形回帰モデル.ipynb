{
 "cells": [
  {
   "cell_type": "markdown",
   "metadata": {
    "toc": true
   },
   "source": [
    "<h1>Table of Contents<span class=\"tocSkip\"></span></h1>\n",
    "<div class=\"toc\"><ul class=\"toc-item\"><li><span><a href=\"#単回帰分析\" data-toc-modified-id=\"単回帰分析-1\"><span class=\"toc-item-num\">1&nbsp;&nbsp;</span>単回帰分析</a></span><ul class=\"toc-item\"><li><span><a href=\"#最小二乗法\" data-toc-modified-id=\"最小二乗法-1.1\"><span class=\"toc-item-num\">1.1&nbsp;&nbsp;</span>最小二乗法</a></span><ul class=\"toc-item\"><li><span><a href=\"#手動ver\" data-toc-modified-id=\"手動ver-1.1.1\"><span class=\"toc-item-num\">1.1.1&nbsp;&nbsp;</span>手動ver</a></span></li><li><span><a href=\"#パッケージver\" data-toc-modified-id=\"パッケージver-1.1.2\"><span class=\"toc-item-num\">1.1.2&nbsp;&nbsp;</span>パッケージver</a></span></li></ul></li><li><span><a href=\"#最尤法\" data-toc-modified-id=\"最尤法-1.2\"><span class=\"toc-item-num\">1.2&nbsp;&nbsp;</span>最尤法</a></span></li></ul></li><li><span><a href=\"#多変数間の関係を捉える\" data-toc-modified-id=\"多変数間の関係を捉える-2\"><span class=\"toc-item-num\">2&nbsp;&nbsp;</span>多変数間の関係を捉える</a></span></li></ul></div>"
   ]
  },
  {
   "cell_type": "code",
   "execution_count": 1,
   "metadata": {},
   "outputs": [
    {
     "data": {
      "text/html": [
       "<div>\n",
       "<style>\n",
       "    .dataframe thead tr:only-child th {\n",
       "        text-align: right;\n",
       "    }\n",
       "\n",
       "    .dataframe thead th {\n",
       "        text-align: left;\n",
       "    }\n",
       "\n",
       "    .dataframe tbody tr th {\n",
       "        vertical-align: top;\n",
       "    }\n",
       "</style>\n",
       "<table border=\"1\" class=\"dataframe\">\n",
       "  <thead>\n",
       "    <tr style=\"text-align: right;\">\n",
       "      <th></th>\n",
       "      <th>length</th>\n",
       "      <th>weight</th>\n",
       "    </tr>\n",
       "  </thead>\n",
       "  <tbody>\n",
       "    <tr>\n",
       "      <th>0</th>\n",
       "      <td>5.4</td>\n",
       "      <td>5</td>\n",
       "    </tr>\n",
       "    <tr>\n",
       "      <th>1</th>\n",
       "      <td>5.7</td>\n",
       "      <td>10</td>\n",
       "    </tr>\n",
       "    <tr>\n",
       "      <th>2</th>\n",
       "      <td>6.9</td>\n",
       "      <td>15</td>\n",
       "    </tr>\n",
       "    <tr>\n",
       "      <th>3</th>\n",
       "      <td>6.4</td>\n",
       "      <td>20</td>\n",
       "    </tr>\n",
       "    <tr>\n",
       "      <th>4</th>\n",
       "      <td>8.2</td>\n",
       "      <td>25</td>\n",
       "    </tr>\n",
       "    <tr>\n",
       "      <th>5</th>\n",
       "      <td>7.7</td>\n",
       "      <td>30</td>\n",
       "    </tr>\n",
       "    <tr>\n",
       "      <th>6</th>\n",
       "      <td>8.4</td>\n",
       "      <td>35</td>\n",
       "    </tr>\n",
       "    <tr>\n",
       "      <th>7</th>\n",
       "      <td>10.1</td>\n",
       "      <td>40</td>\n",
       "    </tr>\n",
       "    <tr>\n",
       "      <th>8</th>\n",
       "      <td>9.9</td>\n",
       "      <td>45</td>\n",
       "    </tr>\n",
       "    <tr>\n",
       "      <th>9</th>\n",
       "      <td>10.5</td>\n",
       "      <td>50</td>\n",
       "    </tr>\n",
       "  </tbody>\n",
       "</table>\n",
       "</div>"
      ],
      "text/plain": [
       "   length  weight\n",
       "0     5.4       5\n",
       "1     5.7      10\n",
       "2     6.9      15\n",
       "3     6.4      20\n",
       "4     8.2      25\n",
       "5     7.7      30\n",
       "6     8.4      35\n",
       "7    10.1      40\n",
       "8     9.9      45\n",
       "9    10.5      50"
      ]
     },
     "execution_count": 1,
     "metadata": {},
     "output_type": "execute_result"
    }
   ],
   "source": [
    "import pandas as pd\n",
    "data = pd.DataFrame({\n",
    "        \"weight\" : [i for i in range(5,55,5)],\n",
    "        \"length\" : [5.4, 5.7, 6.9, 6.4, 8.2, 7.7, 8.4, 10.1, 9.9, 10.5]\n",
    "    })\n",
    "data"
   ]
  },
  {
   "cell_type": "markdown",
   "metadata": {},
   "source": [
    "# 単回帰分析"
   ]
  },
  {
   "cell_type": "markdown",
   "metadata": {},
   "source": [
    "## 最小二乗法"
   ]
  },
  {
   "cell_type": "code",
   "execution_count": 2,
   "metadata": {},
   "outputs": [],
   "source": [
    "from sympy import *\n",
    "#数式操作が可能になるライブラリ\n",
    "\n",
    "#sympyを用いて数式出力方法\n",
    "init_printing()"
   ]
  },
  {
   "cell_type": "code",
   "execution_count": 3,
   "metadata": {},
   "outputs": [
    {
     "data": {
      "image/png": "[encoded data removed]",
      "text/latex": [
       "$$\\frac{3 \\pi}{2} + \\frac{e^{i x}}{x^{2} + y}$$"
      ],
      "text/plain": [
       "        ⅈ⋅x \n",
       "3⋅π    ℯ    \n",
       "─── + ──────\n",
       " 2     2    \n",
       "      x  + y"
      ]
     },
     "execution_count": 3,
     "metadata": {},
     "output_type": "execute_result"
    }
   ],
   "source": [
    "#例\n",
    "x = Symbol('x')\n",
    "y = Symbol('y')\n",
    "Rational(3 ,2)*pi + exp(I*x) / (x**2 + y)"
   ]
  },
  {
   "cell_type": "code",
   "execution_count": 4,
   "metadata": {
    "scrolled": true
   },
   "outputs": [
    {
     "ename": "MultipleInstanceError",
     "evalue": "Multiple incompatible subclass instances of TerminalInteractiveShell are being created.",
     "output_type": "error",
     "traceback": [
      "\u001b[0;31m---------------------------------------------------------------------------\u001b[0m",
      "\u001b[0;31mMultipleInstanceError\u001b[0m                     Traceback (most recent call last)",
      "\u001b[0;32m<ipython-input-4-45ab9ef0517c>\u001b[0m in \u001b[0;36m<module>\u001b[0;34m()\u001b[0m\n\u001b[1;32m      1\u001b[0m \u001b[0;31m#なぜか使えないので\u001b[0m\u001b[0;34m\u001b[0m\u001b[0;34m\u001b[0m\u001b[0m\n\u001b[0;32m----> 2\u001b[0;31m \u001b[0minit_session\u001b[0m\u001b[0;34m(\u001b[0m\u001b[0;34m)\u001b[0m\u001b[0;34m\u001b[0m\u001b[0m\n\u001b[0m",
      "\u001b[0;32m~/.pyenv/versions/anaconda3-5.0.0/lib/python3.6/site-packages/sympy/interactive/session.py\u001b[0m in \u001b[0;36minit_session\u001b[0;34m(ipython, pretty_print, order, use_unicode, use_latex, quiet, auto_symbols, auto_int_to_Integer, str_printer, pretty_printer, latex_printer, argv)\u001b[0m\n\u001b[1;32m    431\u001b[0m     \u001b[0;32melse\u001b[0m\u001b[0;34m:\u001b[0m\u001b[0;34m\u001b[0m\u001b[0m\n\u001b[1;32m    432\u001b[0m         ip = init_ipython_session(argv=argv, auto_symbols=auto_symbols,\n\u001b[0;32m--> 433\u001b[0;31m             auto_int_to_Integer=auto_int_to_Integer)\n\u001b[0m\u001b[1;32m    434\u001b[0m \u001b[0;34m\u001b[0m\u001b[0m\n\u001b[1;32m    435\u001b[0m         \u001b[0;32mif\u001b[0m \u001b[0mV\u001b[0m\u001b[0;34m(\u001b[0m\u001b[0mIPython\u001b[0m\u001b[0;34m.\u001b[0m\u001b[0m__version__\u001b[0m\u001b[0;34m)\u001b[0m \u001b[0;34m>=\u001b[0m \u001b[0;34m'0.11'\u001b[0m\u001b[0;34m:\u001b[0m\u001b[0;34m\u001b[0m\u001b[0m\n",
      "\u001b[0;32m~/.pyenv/versions/anaconda3-5.0.0/lib/python3.6/site-packages/sympy/interactive/session.py\u001b[0m in \u001b[0;36minit_ipython_session\u001b[0;34m(argv, auto_symbols, auto_int_to_Integer)\u001b[0m\n\u001b[1;32m    262\u001b[0m         \u001b[0;31m# don't draw IPython banner during initialization:\u001b[0m\u001b[0;34m\u001b[0m\u001b[0;34m\u001b[0m\u001b[0m\n\u001b[1;32m    263\u001b[0m         \u001b[0mapp\u001b[0m\u001b[0;34m.\u001b[0m\u001b[0mdisplay_banner\u001b[0m \u001b[0;34m=\u001b[0m \u001b[0;32mFalse\u001b[0m\u001b[0;34m\u001b[0m\u001b[0m\n\u001b[0;32m--> 264\u001b[0;31m         \u001b[0mapp\u001b[0m\u001b[0;34m.\u001b[0m\u001b[0minitialize\u001b[0m\u001b[0;34m(\u001b[0m\u001b[0margv\u001b[0m\u001b[0;34m)\u001b[0m\u001b[0;34m\u001b[0m\u001b[0m\n\u001b[0m\u001b[1;32m    265\u001b[0m \u001b[0;34m\u001b[0m\u001b[0m\n\u001b[1;32m    266\u001b[0m         \u001b[0;32mif\u001b[0m \u001b[0mauto_symbols\u001b[0m\u001b[0;34m:\u001b[0m\u001b[0;34m\u001b[0m\u001b[0m\n",
      "\u001b[0;32m<decorator-gen-112>\u001b[0m in \u001b[0;36minitialize\u001b[0;34m(self, argv)\u001b[0m\n",
      "\u001b[0;32m~/.pyenv/versions/anaconda3-5.0.0/lib/python3.6/site-packages/traitlets/config/application.py\u001b[0m in \u001b[0;36mcatch_config_error\u001b[0;34m(method, app, *args, **kwargs)\u001b[0m\n\u001b[1;32m     85\u001b[0m     \"\"\"\n\u001b[1;32m     86\u001b[0m     \u001b[0;32mtry\u001b[0m\u001b[0;34m:\u001b[0m\u001b[0;34m\u001b[0m\u001b[0m\n\u001b[0;32m---> 87\u001b[0;31m         \u001b[0;32mreturn\u001b[0m \u001b[0mmethod\u001b[0m\u001b[0;34m(\u001b[0m\u001b[0mapp\u001b[0m\u001b[0;34m,\u001b[0m \u001b[0;34m*\u001b[0m\u001b[0margs\u001b[0m\u001b[0;34m,\u001b[0m \u001b[0;34m**\u001b[0m\u001b[0mkwargs\u001b[0m\u001b[0;34m)\u001b[0m\u001b[0;34m\u001b[0m\u001b[0m\n\u001b[0m\u001b[1;32m     88\u001b[0m     \u001b[0;32mexcept\u001b[0m \u001b[0;34m(\u001b[0m\u001b[0mTraitError\u001b[0m\u001b[0;34m,\u001b[0m \u001b[0mArgumentError\u001b[0m\u001b[0;34m)\u001b[0m \u001b[0;32mas\u001b[0m \u001b[0me\u001b[0m\u001b[0;34m:\u001b[0m\u001b[0;34m\u001b[0m\u001b[0m\n\u001b[1;32m     89\u001b[0m         \u001b[0mapp\u001b[0m\u001b[0;34m.\u001b[0m\u001b[0mprint_help\u001b[0m\u001b[0;34m(\u001b[0m\u001b[0;34m)\u001b[0m\u001b[0;34m\u001b[0m\u001b[0m\n",
      "\u001b[0;32m~/.pyenv/versions/anaconda3-5.0.0/lib/python3.6/site-packages/IPython/terminal/ipapp.py\u001b[0m in \u001b[0;36minitialize\u001b[0;34m(self, argv)\u001b[0m\n\u001b[1;32m    315\u001b[0m         \u001b[0mself\u001b[0m\u001b[0;34m.\u001b[0m\u001b[0minit_path\u001b[0m\u001b[0;34m(\u001b[0m\u001b[0;34m)\u001b[0m\u001b[0;34m\u001b[0m\u001b[0m\n\u001b[1;32m    316\u001b[0m         \u001b[0;31m# create the shell\u001b[0m\u001b[0;34m\u001b[0m\u001b[0;34m\u001b[0m\u001b[0m\n\u001b[0;32m--> 317\u001b[0;31m         \u001b[0mself\u001b[0m\u001b[0;34m.\u001b[0m\u001b[0minit_shell\u001b[0m\u001b[0;34m(\u001b[0m\u001b[0;34m)\u001b[0m\u001b[0;34m\u001b[0m\u001b[0m\n\u001b[0m\u001b[1;32m    318\u001b[0m         \u001b[0;31m# and draw the banner\u001b[0m\u001b[0;34m\u001b[0m\u001b[0;34m\u001b[0m\u001b[0m\n\u001b[1;32m    319\u001b[0m         \u001b[0mself\u001b[0m\u001b[0;34m.\u001b[0m\u001b[0minit_banner\u001b[0m\u001b[0;34m(\u001b[0m\u001b[0;34m)\u001b[0m\u001b[0;34m\u001b[0m\u001b[0m\n",
      "\u001b[0;32m~/.pyenv/versions/anaconda3-5.0.0/lib/python3.6/site-packages/IPython/terminal/ipapp.py\u001b[0m in \u001b[0;36minit_shell\u001b[0;34m(self)\u001b[0m\n\u001b[1;32m    331\u001b[0m         self.shell = self.interactive_shell_class.instance(parent=self,\n\u001b[1;32m    332\u001b[0m                         \u001b[0mprofile_dir\u001b[0m\u001b[0;34m=\u001b[0m\u001b[0mself\u001b[0m\u001b[0;34m.\u001b[0m\u001b[0mprofile_dir\u001b[0m\u001b[0;34m,\u001b[0m\u001b[0;34m\u001b[0m\u001b[0m\n\u001b[0;32m--> 333\u001b[0;31m                         ipython_dir=self.ipython_dir, user_ns=self.user_ns)\n\u001b[0m\u001b[1;32m    334\u001b[0m         \u001b[0mself\u001b[0m\u001b[0;34m.\u001b[0m\u001b[0mshell\u001b[0m\u001b[0;34m.\u001b[0m\u001b[0mconfigurables\u001b[0m\u001b[0;34m.\u001b[0m\u001b[0mappend\u001b[0m\u001b[0;34m(\u001b[0m\u001b[0mself\u001b[0m\u001b[0;34m)\u001b[0m\u001b[0;34m\u001b[0m\u001b[0m\n\u001b[1;32m    335\u001b[0m \u001b[0;34m\u001b[0m\u001b[0m\n",
      "\u001b[0;32m~/.pyenv/versions/anaconda3-5.0.0/lib/python3.6/site-packages/traitlets/config/configurable.py\u001b[0m in \u001b[0;36minstance\u001b[0;34m(cls, *args, **kwargs)\u001b[0m\n\u001b[1;32m    421\u001b[0m             raise MultipleInstanceError(\n\u001b[1;32m    422\u001b[0m                 \u001b[0;34m'Multiple incompatible subclass instances of '\u001b[0m\u001b[0;34m\u001b[0m\u001b[0m\n\u001b[0;32m--> 423\u001b[0;31m                 \u001b[0;34m'%s are being created.'\u001b[0m \u001b[0;34m%\u001b[0m \u001b[0mcls\u001b[0m\u001b[0;34m.\u001b[0m\u001b[0m__name__\u001b[0m\u001b[0;34m\u001b[0m\u001b[0m\n\u001b[0m\u001b[1;32m    424\u001b[0m             )\n\u001b[1;32m    425\u001b[0m \u001b[0;34m\u001b[0m\u001b[0m\n",
      "\u001b[0;31mMultipleInstanceError\u001b[0m: Multiple incompatible subclass instances of TerminalInteractiveShell are being created."
     ]
    }
   ],
   "source": [
    "#なぜか使えないので\n",
    "init_session()"
   ]
  },
  {
   "cell_type": "code",
   "execution_count": 5,
   "metadata": {},
   "outputs": [],
   "source": [
    "#自分で定義\n",
    "from __future__ import division\n",
    "\n",
    "x, y, z, t = symbols('x y z t')\n",
    "k, m, n = symbols('k m n', integer=True)\n",
    "f, g, h = symbols('f g h', cls=Function)\n",
    "\n",
    "init_printing()"
   ]
  },
  {
   "cell_type": "markdown",
   "metadata": {},
   "source": [
    "### 手動ver"
   ]
  },
  {
   "cell_type": "code",
   "execution_count": 6,
   "metadata": {},
   "outputs": [],
   "source": [
    "b0, b1 = symbols(\"b0 b1\")\n",
    "\n",
    "j = (y - (b1 * x + b0)) ** 2"
   ]
  },
  {
   "cell_type": "code",
   "execution_count": 7,
   "metadata": {},
   "outputs": [],
   "source": [
    "#diff : 差分を取る\n",
    "j_b0 = diff(j, b0)"
   ]
  },
  {
   "cell_type": "code",
   "execution_count": 8,
   "metadata": {},
   "outputs": [],
   "source": [
    "j_b1 = diff(j, b1)"
   ]
  },
  {
   "cell_type": "code",
   "execution_count": 9,
   "metadata": {},
   "outputs": [],
   "source": [
    "#\n",
    "\n",
    "#subs : 関数（j_b1）のxに値（point[1][\"weight\"]）を代入、yにも値を代入\n",
    "sum_b0 = sum([j_b0.subs([(x, point[1][\"weight\"]), (y, point[1][\"length\"])]) for point in data.iterrows()]) / 2.\n",
    "sum_b1 = sum([j_b1.subs([(x, point[1][\"weight\"]), (y, point[1][\"length\"])]) for point in data.iterrows()]) / 2."
   ]
  },
  {
   "cell_type": "markdown",
   "metadata": {},
   "source": [
    "<img src = \"http://cdn-ak.f.st-hatena.com/images/fotolife/s/sinhrks/20150618/20150618222231.png\">"
   ]
  },
  {
   "cell_type": "code",
   "execution_count": 10,
   "metadata": {},
   "outputs": [
    {
     "data": {
      "image/png": "[encoded data removed]",
      "text/latex": [
       "$$\\left \\{ b_{0} : 4.69333333333333, \\quad b_{1} : 0.117333333333333\\right \\}$$"
      ],
      "text/plain": [
       "{b₀: 4.69333333333333, b₁: 0.117333333333333}"
      ]
     },
     "execution_count": 10,
     "metadata": {},
     "output_type": "execute_result"
    }
   ],
   "source": [
    "#solve : 微分\n",
    "b = solve([sum_b0, sum_b1], [b0, b1])\n",
    "b"
   ]
  },
  {
   "cell_type": "code",
   "execution_count": 11,
   "metadata": {},
   "outputs": [
    {
     "data": {
      "image/png": "[encoded data removed]",
      "text/plain": [
       "<Figure size 432x288 with 1 Axes>"
      ]
     },
     "metadata": {},
     "output_type": "display_data"
    }
   ],
   "source": [
    "% matplotlib inline\n",
    "import matplotlib.pyplot as plt\n",
    "plt.plot(data[\"weight\"], [b[b0] + b[b1]*expected for expected in list(data[\"weight\"])], label='予測値')\n",
    "plt.scatter(data[\"weight\"], data[\"length\"], label='測定値')\n",
    "plt.title('線形回帰')\n",
    "plt.xlabel('weight')\n",
    "plt.ylabel('length')\n",
    "plt.legend(bbox_to_anchor=(1.15, 1.0))\n",
    "plt.show()"
   ]
  },
  {
   "cell_type": "markdown",
   "metadata": {},
   "source": [
    "### パッケージver"
   ]
  },
  {
   "cell_type": "code",
   "execution_count": 10,
   "metadata": {},
   "outputs": [],
   "source": [
    "from sklearn import linear_model"
   ]
  },
  {
   "cell_type": "code",
   "execution_count": 13,
   "metadata": {},
   "outputs": [
    {
     "data": {
      "text/plain": [
       "LinearRegression(copy_X=True, fit_intercept=True, n_jobs=1, normalize=False)"
      ]
     },
     "execution_count": 13,
     "metadata": {},
     "output_type": "execute_result"
    }
   ],
   "source": [
    "# Create linear regression object\n",
    "regr = linear_model.LinearRegression()\n",
    "# Train the model using the training sets\n",
    "#as_matrix()・・・dataframeからarrayに変換\n",
    "regr.fit(data[\"weight\"].as_matrix()[:,None], data[\"length\"].as_matrix()[:,None])\n"
   ]
  },
  {
   "cell_type": "code",
   "execution_count": 14,
   "metadata": {},
   "outputs": [
    {
     "name": "stdout",
     "output_type": "stream",
     "text": [
      "Coefficients: \n",
      " [[0.11733333]]\n"
     ]
    }
   ],
   "source": [
    "# The coefficients\n",
    "print('Coefficients: \\n', regr.coef_)"
   ]
  },
  {
   "cell_type": "code",
   "execution_count": 15,
   "metadata": {},
   "outputs": [
    {
     "data": {
      "image/png": "[encoded data removed]",
      "text/plain": [
       "<Figure size 432x288 with 1 Axes>"
      ]
     },
     "metadata": {},
     "output_type": "display_data"
    }
   ],
   "source": [
    "# Plot outputs\n",
    "plt.scatter(data[\"weight\"], data[\"length\"], label='測定値')\n",
    "plt.plot(data[\"weight\"], regr.predict(data[\"weight\"].as_matrix()[:,None]), label='予測値')\n",
    "\n",
    "plt.xticks(())\n",
    "plt.yticks(())\n",
    "\n",
    "plt.title('線形回帰')\n",
    "plt.xlabel('weight')\n",
    "plt.ylabel('length')\n",
    "plt.legend(bbox_to_anchor=(1.15, 1.0))\n",
    "\n",
    "plt.show()"
   ]
  },
  {
   "cell_type": "markdown",
   "metadata": {},
   "source": [
    "## 最尤法 "
   ]
  },
  {
   "cell_type": "markdown",
   "metadata": {},
   "source": [
    "各実験点で観測されるデータはある確率分布に従って得られるものであるという過程の基に観測されたデータが得られる確率を最大化するような回帰係数を推定する方法"
   ]
  },
  {
   "cell_type": "markdown",
   "metadata": {},
   "source": [
    "# 多変数間の関係を捉える "
   ]
  },
  {
   "cell_type": "code",
   "execution_count": 3,
   "metadata": {},
   "outputs": [],
   "source": [
    "import numpy as np\n",
    "import scipy as sp\n",
    "import pandas as pd"
   ]
  },
  {
   "cell_type": "code",
   "execution_count": 4,
   "metadata": {},
   "outputs": [
    {
     "data": {
      "text/html": [
       "<div>\n",
       "<style>\n",
       "    .dataframe thead tr:only-child th {\n",
       "        text-align: right;\n",
       "    }\n",
       "\n",
       "    .dataframe thead th {\n",
       "        text-align: left;\n",
       "    }\n",
       "\n",
       "    .dataframe tbody tr th {\n",
       "        vertical-align: top;\n",
       "    }\n",
       "</style>\n",
       "<table border=\"1\" class=\"dataframe\">\n",
       "  <thead>\n",
       "    <tr style=\"text-align: right;\">\n",
       "      <th></th>\n",
       "      <th>物質の量</th>\n",
       "    </tr>\n",
       "  </thead>\n",
       "  <tbody>\n",
       "    <tr>\n",
       "      <th>0</th>\n",
       "      <td>28.700000</td>\n",
       "    </tr>\n",
       "    <tr>\n",
       "      <th>1</th>\n",
       "      <td>28.960588</td>\n",
       "    </tr>\n",
       "    <tr>\n",
       "      <th>2</th>\n",
       "      <td>29.221176</td>\n",
       "    </tr>\n",
       "    <tr>\n",
       "      <th>3</th>\n",
       "      <td>29.481765</td>\n",
       "    </tr>\n",
       "    <tr>\n",
       "      <th>4</th>\n",
       "      <td>29.742353</td>\n",
       "    </tr>\n",
       "  </tbody>\n",
       "</table>\n",
       "</div>"
      ],
      "text/plain": [
       "        物質の量\n",
       "0  28.700000\n",
       "1  28.960588\n",
       "2  29.221176\n",
       "3  29.481765\n",
       "4  29.742353"
      ]
     },
     "execution_count": 4,
     "metadata": {},
     "output_type": "execute_result"
    }
   ],
   "source": [
    "temp = [(34.1 + (52.6 - 34.1)/85*i) for i in range(1000)]\n",
    "press = [(2.3 + (4.8 - 2.3)/85*i) for i in range(1000)]\n",
    "catal = [(0.1 + (1.1 - 0.1)/85*i) for i in range(1000)]\n",
    "ph = [(6.4 + (7.8 - 6.4)/85*i) for i in range(1000)]\n",
    "y = []\n",
    "for i in range(1000):\n",
    "    y.append(0.5*temp[i]+2*press[i]+6.5*catal[i]+1*ph[i])\n",
    "    \n",
    "y = pd.DataFrame({      \n",
    "        \"物質の量\" : y\n",
    "})\n",
    "y.head(5)"
   ]
  },
  {
   "cell_type": "code",
   "execution_count": 19,
   "metadata": {},
   "outputs": [],
   "source": [
    "def set_X_with_noise_pH(level):\n",
    "    np.random.seed(0)\n",
    "    X = pd.DataFrame({      \n",
    "            \"温度\" : [d + np.random.normal(0,0.01) for d in temp],\n",
    "            \"圧力\" : [d + np.random.normal(0,0.01) for d in press],\n",
    "            \"触媒量\" : [d + np.random.normal(0,0.01) for d in catal],\n",
    "            \"pH\" : [d + np.random.normal(0,level) for d in ph]\n",
    "    })\n",
    "    X_without_pH = X.drop('pH', axis = 1)\n",
    "    return X, X_without_pH\n",
    "\n",
    "X, X_without_pH = set_X_with_noise_pH(1)"
   ]
  },
  {
   "cell_type": "code",
   "execution_count": 20,
   "metadata": {},
   "outputs": [
    {
     "data": {
      "text/html": [
       "<div>\n",
       "<style>\n",
       "    .dataframe thead tr:only-child th {\n",
       "        text-align: right;\n",
       "    }\n",
       "\n",
       "    .dataframe thead th {\n",
       "        text-align: left;\n",
       "    }\n",
       "\n",
       "    .dataframe tbody tr th {\n",
       "        vertical-align: top;\n",
       "    }\n",
       "</style>\n",
       "<table border=\"1\" class=\"dataframe\">\n",
       "  <thead>\n",
       "    <tr style=\"text-align: right;\">\n",
       "      <th></th>\n",
       "      <th>pH</th>\n",
       "      <th>圧力</th>\n",
       "      <th>温度</th>\n",
       "      <th>触媒量</th>\n",
       "    </tr>\n",
       "  </thead>\n",
       "  <tbody>\n",
       "    <tr>\n",
       "      <th>0</th>\n",
       "      <td>7.993274</td>\n",
       "      <td>2.305560</td>\n",
       "      <td>34.117641</td>\n",
       "      <td>0.084671</td>\n",
       "    </tr>\n",
       "    <tr>\n",
       "      <th>1</th>\n",
       "      <td>6.985193</td>\n",
       "      <td>2.338337</td>\n",
       "      <td>34.321649</td>\n",
       "      <td>0.094645</td>\n",
       "    </tr>\n",
       "    <tr>\n",
       "      <th>2</th>\n",
       "      <td>6.318454</td>\n",
       "      <td>2.354600</td>\n",
       "      <td>34.545081</td>\n",
       "      <td>0.123991</td>\n",
       "    </tr>\n",
       "    <tr>\n",
       "      <th>3</th>\n",
       "      <td>6.701042</td>\n",
       "      <td>2.389282</td>\n",
       "      <td>34.775350</td>\n",
       "      <td>0.125710</td>\n",
       "    </tr>\n",
       "    <tr>\n",
       "      <th>4</th>\n",
       "      <td>5.255027</td>\n",
       "      <td>2.419928</td>\n",
       "      <td>34.989264</td>\n",
       "      <td>0.146251</td>\n",
       "    </tr>\n",
       "  </tbody>\n",
       "</table>\n",
       "</div>"
      ],
      "text/plain": [
       "         pH        圧力         温度       触媒量\n",
       "0  7.993274  2.305560  34.117641  0.084671\n",
       "1  6.985193  2.338337  34.321649  0.094645\n",
       "2  6.318454  2.354600  34.545081  0.123991\n",
       "3  6.701042  2.389282  34.775350  0.125710\n",
       "4  5.255027  2.419928  34.989264  0.146251"
      ]
     },
     "execution_count": 20,
     "metadata": {},
     "output_type": "execute_result"
    }
   ],
   "source": [
    "X.head(5)"
   ]
  },
  {
   "cell_type": "code",
   "execution_count": 21,
   "metadata": {},
   "outputs": [
    {
     "data": {
      "text/html": [
       "<div>\n",
       "<style>\n",
       "    .dataframe thead tr:only-child th {\n",
       "        text-align: right;\n",
       "    }\n",
       "\n",
       "    .dataframe thead th {\n",
       "        text-align: left;\n",
       "    }\n",
       "\n",
       "    .dataframe tbody tr th {\n",
       "        vertical-align: top;\n",
       "    }\n",
       "</style>\n",
       "<table border=\"1\" class=\"dataframe\">\n",
       "  <thead>\n",
       "    <tr style=\"text-align: right;\">\n",
       "      <th></th>\n",
       "      <th>圧力</th>\n",
       "      <th>温度</th>\n",
       "      <th>触媒量</th>\n",
       "    </tr>\n",
       "  </thead>\n",
       "  <tbody>\n",
       "    <tr>\n",
       "      <th>0</th>\n",
       "      <td>2.305560</td>\n",
       "      <td>34.117641</td>\n",
       "      <td>0.084671</td>\n",
       "    </tr>\n",
       "    <tr>\n",
       "      <th>1</th>\n",
       "      <td>2.338337</td>\n",
       "      <td>34.321649</td>\n",
       "      <td>0.094645</td>\n",
       "    </tr>\n",
       "    <tr>\n",
       "      <th>2</th>\n",
       "      <td>2.354600</td>\n",
       "      <td>34.545081</td>\n",
       "      <td>0.123991</td>\n",
       "    </tr>\n",
       "    <tr>\n",
       "      <th>3</th>\n",
       "      <td>2.389282</td>\n",
       "      <td>34.775350</td>\n",
       "      <td>0.125710</td>\n",
       "    </tr>\n",
       "    <tr>\n",
       "      <th>4</th>\n",
       "      <td>2.419928</td>\n",
       "      <td>34.989264</td>\n",
       "      <td>0.146251</td>\n",
       "    </tr>\n",
       "  </tbody>\n",
       "</table>\n",
       "</div>"
      ],
      "text/plain": [
       "         圧力         温度       触媒量\n",
       "0  2.305560  34.117641  0.084671\n",
       "1  2.338337  34.321649  0.094645\n",
       "2  2.354600  34.545081  0.123991\n",
       "3  2.389282  34.775350  0.125710\n",
       "4  2.419928  34.989264  0.146251"
      ]
     },
     "execution_count": 21,
     "metadata": {},
     "output_type": "execute_result"
    }
   ],
   "source": [
    "X_without_pH.head(5)"
   ]
  },
  {
   "cell_type": "code",
   "execution_count": 8,
   "metadata": {},
   "outputs": [
    {
     "name": "stdout",
     "output_type": "stream",
     "text": [
      "(900, 4)\n",
      "(100, 4)\n",
      "(900, 3)\n",
      "(100, 3)\n",
      "(900, 1)\n",
      "(100, 1)\n"
     ]
    }
   ],
   "source": [
    "#テストデータと訓練データの準備\n",
    "X_train = X.as_matrix()[:-100]\n",
    "X_test = X.as_matrix()[-100:]\n",
    "X_without_pH_train = X_without_pH.as_matrix()[:-100]\n",
    "X_without_pH_test = X_without_pH.as_matrix()[-100:]\n",
    "y_train = y.as_matrix()[:-100]\n",
    "y_test = y.as_matrix()[-100:]\n",
    "print(X_train.shape)\n",
    "print(X_test.shape)\n",
    "print(X_without_pH_train.shape)\n",
    "print(X_without_pH_test.shape)\n",
    "print(y_train.shape)\n",
    "print(y_test.shape)"
   ]
  },
  {
   "cell_type": "markdown",
   "metadata": {},
   "source": [
    "説明変数からpHを入れた訓練データによる線形回帰モデルとpHを省いた訓練データによる線形回帰モデルのAICをそれぞれ計算"
   ]
  },
  {
   "cell_type": "code",
   "execution_count": 11,
   "metadata": {},
   "outputs": [
    {
     "name": "stdout",
     "output_type": "stream",
     "text": [
      "pHを入れた訓練データによる線形回帰モデルのAIC :  -5455.266316204605\n",
      "pHを省いた訓練データによる線形回帰モデルのAIC :  -5457.015806555966\n"
     ]
    }
   ],
   "source": [
    "from math import log, pi\n",
    "def get_AIC_and_model(X,y,n,p):\n",
    "    if n != y.shape[0] or p != X.shape[1]:\n",
    "        raise ValueError('Check shape')\n",
    "    regr = linear_model.LinearRegression()\n",
    "    regr.fit(X, y)\n",
    "    y_hat = regr.predict(X)\n",
    "    sigma2 = 0\n",
    "    for i in range(n):\n",
    "        sigma2 += (y[i] - y_hat[i])*(y[i] - y_hat[i])\n",
    "    sigma2 /= n\n",
    "    aic = n * log(2*pi*sigma2) + n + 2*(p+2)\n",
    "    return aic, regr\n",
    "    \n",
    "aic, model = get_AIC_and_model(X_train, y_train, 900, 4)\n",
    "print(\"pHを入れた訓練データによる線形回帰モデルのAIC : \",aic)\n",
    "aic_without_pH, model_without_pH = get_AIC_and_model(X_without_pH_train, y_train, 900, 3)\n",
    "print(\"pHを省いた訓練データによる線形回帰モデルのAIC : \",aic_without_pH)"
   ]
  },
  {
   "cell_type": "markdown",
   "metadata": {},
   "source": [
    "２つのモデルを用いて100個のテストデータに対して予測を行い、誤差大きさの平均を比較"
   ]
  },
  {
   "cell_type": "code",
   "execution_count": 12,
   "metadata": {},
   "outputs": [
    {
     "name": "stdout",
     "output_type": "stream",
     "text": [
      "pHを入れた訓練データによる線形回帰モデルによる予測のloss :  0.00013922675707546287\n",
      "pHを省いた訓練データによる線形回帰モデルによる予測のloss :  0.00013897910666387948\n"
     ]
    }
   ],
   "source": [
    "def check_loss(model, X_test, y_test, n):\n",
    "    y_predict = model.predict(X_test)\n",
    "    loss = 0\n",
    "    for i in range(n):\n",
    "        loss += (y_test[i] - y_predict[i])*(y_test[i] - y_predict[i])\n",
    "    loss /= n\n",
    "    return loss\n",
    "\n",
    "loss = check_loss(model, X_test, y_test, 100)[0]\n",
    "print(\"pHを入れた訓練データによる線形回帰モデルによる予測のloss : \",loss)\n",
    "loss_without_pH = check_loss(model_without_pH, X_without_pH_test, y_test, 100)[0]\n",
    "print(\"pHを省いた訓練データによる線形回帰モデルによる予測のloss : \",loss_without_pH)\n"
   ]
  },
  {
   "cell_type": "markdown",
   "metadata": {},
   "source": [
    "pHをモデルに入れた方が良さそうな場合を最後に確認してみよう。\n",
    "pHのデータに割と小さいノイズを入れて見る。"
   ]
  },
  {
   "cell_type": "code",
   "execution_count": 13,
   "metadata": {},
   "outputs": [
    {
     "name": "stdout",
     "output_type": "stream",
     "text": [
      "pHを入れた訓練データによる線形回帰モデルのAIC :  -9016.423223568825\n",
      "pHを省いた訓練データによる線形回帰モデルのAIC :  -5457.015806555966\n",
      "pHを入れた訓練データによる線形回帰モデルによる予測のloss :  2.228996078296541e-06\n",
      "pHを省いた訓練データによる線形回帰モデルによる予測のloss :  0.00013897910666387948\n"
     ]
    }
   ],
   "source": [
    "X, X_without_pH = set_X_with_noise_pH(0.0001)\n",
    "X_train = X.as_matrix()[:-100]\n",
    "X_test = X.as_matrix()[-100:]\n",
    "X_without_pH_train = X_without_pH.as_matrix()[:-100]\n",
    "X_without_pH_test = X_without_pH.as_matrix()[-100:]\n",
    "aic, model = get_AIC_and_model(X_train, y_train, 900, 4)\n",
    "print(\"pHを入れた訓練データによる線形回帰モデルのAIC : \",aic)\n",
    "aic_without_pH, model_without_pH = get_AIC_and_model(X_without_pH_train, y_train, 900, 3)\n",
    "print(\"pHを省いた訓練データによる線形回帰モデルのAIC : \",aic_without_pH)\n",
    "loss = check_loss(model, X_test, y_test, 100)[0]\n",
    "print(\"pHを入れた訓練データによる線形回帰モデルによる予測のloss : \",loss)\n",
    "loss_without_pH = check_loss(model_without_pH, X_without_pH_test, y_test, 100)[0]\n",
    "print(\"pHを省いた訓練データによる線形回帰モデルによる予測のloss : \",loss_without_pH)"
   ]
  },
  {
   "cell_type": "code",
   "execution_count": null,
   "metadata": {},
   "outputs": [],
   "source": []
  }
 ],
 "metadata": {
  "kernelspec": {
   "display_name": "Python 3",
   "language": "python",
   "name": "python3"
  },
  "language_info": {
   "codemirror_mode": {
    "name": "ipython",
    "version": 3
   },
   "file_extension": ".py",
   "mimetype": "text/x-python",
   "name": "python",
   "nbconvert_exporter": "python",
   "pygments_lexer": "ipython3",
   "version": "3.6.2"
  },
  "toc": {
   "base_numbering": 1,
   "nav_menu": {},
   "number_sections": true,
   "sideBar": true,
   "skip_h1_title": false,
   "title_cell": "Table of Contents",
   "title_sidebar": "Contents",
   "toc_cell": true,
   "toc_position": {
    "height": "calc(100% - 180px)",
    "left": "10px",
    "top": "150px",
    "width": "147px"
   },
   "toc_section_display": true,
   "toc_window_display": true
  }
 },
 "nbformat": 4,
 "nbformat_minor": 2
}
