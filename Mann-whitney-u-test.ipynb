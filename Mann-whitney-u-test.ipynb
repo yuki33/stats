{
 "cells": [
  {
   "cell_type": "markdown",
   "metadata": {},
   "source": [
    "# マンホイットニーのU検定"
   ]
  },
  {
   "cell_type": "markdown",
   "metadata": {},
   "source": [
    "ノンパラメトリックな統計学的検定の一つ。<br>\n",
    "マン・ホイットニーのU検定は、正規分布の混合といった非正規分布についてはt検定よりも有効性が高く、正規分布についてもt検定に近い有効性を示す。"
   ]
  },
  {
   "cell_type": "markdown",
   "metadata": {},
   "source": [
    "pythonでマンホイットニーのU検定する方法。\n",
    "scipyを使う。"
   ]
  },
  {
   "cell_type": "code",
   "execution_count": 2,
   "metadata": {},
   "outputs": [],
   "source": [
    "# data generate\n",
    "import numpy as np\n",
    "x = np.random.normal(0,10,size=100)\n",
    "y = np.random.normal(5,10,size=100)"
   ]
  },
  {
   "cell_type": "code",
   "execution_count": 5,
   "metadata": {},
   "outputs": [
    {
     "data": {
      "text/plain": [
       "array([ -2.98552436,  -2.9285398 ,  -2.9295047 ,  -1.28173398,\n",
       "        -8.99479219, -11.03175789,  13.373387  ,  -6.43255838,\n",
       "        -6.02357807,  14.56912789])"
      ]
     },
     "execution_count": 5,
     "metadata": {},
     "output_type": "execute_result"
    }
   ],
   "source": [
    "#choose 2 groups\n",
    "x[:10]"
   ]
  },
  {
   "cell_type": "code",
   "execution_count": 6,
   "metadata": {},
   "outputs": [
    {
     "data": {
      "text/plain": [
       "array([10.26792432,  1.42781084, 18.49888935, -7.9666787 ,  4.06924677,\n",
       "        5.22640842, 12.74908736, 10.48304074, 16.16543279,  1.24080828])"
      ]
     },
     "execution_count": 6,
     "metadata": {},
     "output_type": "execute_result"
    }
   ],
   "source": [
    "y[:10]"
   ]
  },
  {
   "cell_type": "code",
   "execution_count": 7,
   "metadata": {},
   "outputs": [
    {
     "data": {
      "text/plain": [
       "MannwhitneyuResult(statistic=3335.0, pvalue=2.380899687743813e-05)"
      ]
     },
     "execution_count": 7,
     "metadata": {},
     "output_type": "execute_result"
    }
   ],
   "source": [
    "# mannwhitney-u test\n",
    "from scipy import stats\n",
    "stats.mannwhitneyu(x, y, use_continuity=True, alternative=None)"
   ]
  },
  {
   "cell_type": "markdown",
   "metadata": {},
   "source": [
    "p値が<0.05の場合、「この2群の中央値が等しい」という帰無仮説が棄却される。<br>\n",
    "つまり、中央値が異なることがわかる"
   ]
  },
  {
   "cell_type": "code",
   "execution_count": null,
   "metadata": {},
   "outputs": [],
   "source": []
  }
 ],
 "metadata": {
  "kernelspec": {
   "display_name": "Python 3",
   "language": "python",
   "name": "python3"
  },
  "language_info": {
   "codemirror_mode": {
    "name": "ipython",
    "version": 3
   },
   "file_extension": ".py",
   "mimetype": "text/x-python",
   "name": "python",
   "nbconvert_exporter": "python",
   "pygments_lexer": "ipython3",
   "version": "3.7.1"
  }
 },
 "nbformat": 4,
 "nbformat_minor": 2
}
