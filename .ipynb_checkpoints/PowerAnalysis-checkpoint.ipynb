{
 "cells": [
  {
   "cell_type": "markdown",
   "metadata": {},
   "source": [
    "# 検定力分析について"
   ]
  },
  {
   "cell_type": "markdown",
   "metadata": {},
   "source": [
    "実験をやる前には必ずサンプル数の特定が必要になる。その際の分析法。例えば有意ではないという結果になった時にそれが「実際に帰無仮説が真」なのか「単にサンプルサイズが小さくて検出力が足りないだけ」なのか判断せよという問題。前者なら果てしなくサンプルサイズを大きくしても有意にはならないし、後者なら今度は効果量(effect size)のことを考えなければいけません。詳しい理論については<br>\n",
    "https://tjo.hatenablog.com/entry/2014/02/24/192655<br>\n",
    "effectsizeとは母集団における効果の大きさ」。いつも母集団を分析することはできないのでこの値は大切となる。"
   ]
  },
  {
   "cell_type": "markdown",
   "metadata": {},
   "source": [
    "## 分析手順"
   ]
  },
  {
   "cell_type": "markdown",
   "metadata": {},
   "source": [
    "1,あらかじめ実験or測定する前から、想定される母集団に「○○ぐらいの大きさのeffect sizeがあるはずだ」という仮定を置く<br>\n",
    "→Cohenのeffect sizeを利用すれば良い<br>\n",
    "→詳しくは　Statistical Power Analysis for the Behavioral Sciences<br>\n",
    "\n",
    "2,仮定したeffect sizeのもとで、最小限となるサンプルサイズを決定する"
   ]
  },
  {
   "cell_type": "markdown",
   "metadata": {},
   "source": [
    "## Python <br>\n",
    "参照）　https://www.monotalk.xyz/blog/With-python-statsmodel-calculate-the-verification-power-and-the-Sample-Size/"
   ]
  },
  {
   "cell_type": "code",
   "execution_count": 2,
   "metadata": {},
   "outputs": [
    {
     "data": {
      "text/plain": [
       "0.8043066031424042"
      ]
     },
     "execution_count": 2,
     "metadata": {},
     "output_type": "execute_result"
    }
   ],
   "source": [
    "import statsmodels.stats.power as smp\n",
    "# effect size(no control)\n",
    "effect_size=0.28\n",
    "# number of total sample\n",
    "nobs=210\n",
    "# Significance level\n",
    "alpha=0.05\n",
    "# number of group\n",
    "k_groups=10\n",
    "smp.FTestAnovaPower().power(effect_size, nobs, alpha,  k_groups=k_groups)"
   ]
  },
  {
   "cell_type": "markdown",
   "metadata": {},
   "source": [
    "## R"
   ]
  },
  {
   "cell_type": "markdown",
   "metadata": {},
   "source": [
    "参照）　https://www.rdocumentation.org/packages/stats/versions/3.5.2/topics/power.anova.test"
   ]
  },
  {
   "cell_type": "markdown",
   "metadata": {},
   "source": [
    "記事の中のwithin.varの求め方がないのでそれについては以下を参照した。"
   ]
  },
  {
   "cell_type": "markdown",
   "metadata": {},
   "source": [
    "参照）　https://stackoverflow.com/questions/1401894/calculate-within-and-between-variances-and-confidence-intervals-in-r"
   ]
  },
  {
   "cell_type": "markdown",
   "metadata": {},
   "source": [
    "ちなみに同じデータでpythonでもRでも試したが同じ結果を導くことができた"
   ]
  },
  {
   "cell_type": "code",
   "execution_count": null,
   "metadata": {},
   "outputs": [],
   "source": []
  }
 ],
 "metadata": {
  "kernelspec": {
   "display_name": "Python 3",
   "language": "python",
   "name": "python3"
  },
  "language_info": {
   "codemirror_mode": {
    "name": "ipython",
    "version": 3
   },
   "file_extension": ".py",
   "mimetype": "text/x-python",
   "name": "python",
   "nbconvert_exporter": "python",
   "pygments_lexer": "ipython3",
   "version": "3.7.1"
  }
 },
 "nbformat": 4,
 "nbformat_minor": 2
}
